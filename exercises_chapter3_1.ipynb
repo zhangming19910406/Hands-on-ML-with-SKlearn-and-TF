{
 "cells": [
  {
   "cell_type": "markdown",
   "metadata": {},
   "source": [
    "## Exercises 1"
   ]
  },
  {
   "cell_type": "code",
   "execution_count": 1,
   "metadata": {},
   "outputs": [],
   "source": [
    "def sort_by_target(mnist):\n",
    "    reorder_train = np.array(sorted([(target, i) for i, target in enumerate(mnist.target[:60000])]))[:, 1]\n",
    "    reorder_test = np.array(sorted([(target, i) for i, target in enumerate(mnist.target[60000:])]))[:, 1]\n",
    "    mnist.data[:60000] = mnist.data[reorder_train]\n",
    "    mnist.target[:60000] = mnist.target[reorder_train]\n",
    "    mnist.data[60000:] = mnist.data[reorder_test + 60000]\n",
    "    mnist.target[60000:] = mnist.target[reorder_test + 60000]"
   ]
  },
  {
   "cell_type": "code",
   "execution_count": 2,
   "metadata": {},
   "outputs": [
    {
     "data": {
      "text/plain": [
       "(70000, 784)"
      ]
     },
     "execution_count": 2,
     "metadata": {},
     "output_type": "execute_result"
    }
   ],
   "source": [
    "import numpy as np\n",
    "try:\n",
    "    from sklearn.datasets import fetch_openml\n",
    "    mnist = fetch_openml('mnist_784', version=1 ,cache=True)\n",
    "    mnist.target = mnist.target.astype(np.int8)\n",
    "    sort_by_target(mnist)\n",
    "except ImportError:\n",
    "    from sklearn.datesets import fetch_mldata\n",
    "X, y = mnist[\"data\"], mnist[\"target\"]\n",
    "X.shape"
   ]
  },
  {
   "cell_type": "code",
   "execution_count": 3,
   "metadata": {},
   "outputs": [],
   "source": [
    "X_train, X_test, y_train, y_test = X[:60000], X[60000:], y[:60000], y[60000:]"
   ]
  },
  {
   "cell_type": "code",
   "execution_count": 4,
   "metadata": {},
   "outputs": [],
   "source": [
    "shuffle_index = np.random.permutation(60000)\n",
    "X_train, y_train = X_train[shuffle_index], y_train[shuffle_index]"
   ]
  },
  {
   "cell_type": "code",
   "execution_count": 5,
   "metadata": {},
   "outputs": [
    {
     "name": "stdout",
     "output_type": "stream",
     "text": [
      "CPU times: user 24.7 s, sys: 136 ms, total: 24.8 s\n",
      "Wall time: 24.8 s\n"
     ]
    },
    {
     "data": {
      "text/plain": [
       "KNeighborsClassifier(algorithm='auto', leaf_size=30, metric='minkowski',\n",
       "                     metric_params=None, n_jobs=None, n_neighbors=5, p=2,\n",
       "                     weights='uniform')"
      ]
     },
     "execution_count": 5,
     "metadata": {},
     "output_type": "execute_result"
    }
   ],
   "source": [
    "%%time\n",
    "from sklearn.neighbors import KNeighborsClassifier\n",
    "knn = KNeighborsClassifier()\n",
    "knn.fit(X_train, y_train)"
   ]
  },
  {
   "cell_type": "code",
   "execution_count": 13,
   "metadata": {},
   "outputs": [
    {
     "name": "stdout",
     "output_type": "stream",
     "text": [
      "CPU times: user 9 µs, sys: 1e+03 ns, total: 10 µs\n",
      "Wall time: 12.9 µs\n"
     ]
    }
   ],
   "source": [
    "%%time\n",
    "from sklearn.model_selection import cross_val_score\n",
    "# cross_val_score(knn, X_train, y_train, cv=3, scoring=\"accuracy\")"
   ]
  },
  {
   "cell_type": "code",
   "execution_count": 54,
   "metadata": {},
   "outputs": [
    {
     "data": {
      "text/plain": [
       "600"
      ]
     },
     "execution_count": 54,
     "metadata": {},
     "output_type": "execute_result"
    }
   ],
   "source": [
    "# Beacuuse of big data, we need 10% of train data.\n",
    "from sklearn.model_selection import train_test_split\n",
    "T, X_train_10 = train_test_split(X_train, test_size=0.01, random_state=42)\n",
    "T, y_train_10 = train_test_split(y_train, test_size=0.01, random_state=42)\n",
    "len(X_train_10)"
   ]
  },
  {
   "cell_type": "code",
   "execution_count": 68,
   "metadata": {},
   "outputs": [
    {
     "data": {
      "text/plain": [
       "array([8, 5, 5, 8, 3, 1, 1, 1, 9, 7, 4, 3, 6, 7, 0, 7, 3, 2, 0, 6, 4, 2,\n",
       "       7, 0, 0, 9, 7, 5, 4, 6, 8, 6, 1, 6, 2, 1, 2, 1, 7, 2, 1, 0, 5, 9,\n",
       "       0, 8, 5, 3, 2, 6, 4, 0, 7, 6, 8, 0, 2, 5, 0, 3, 9, 7, 3, 4, 9, 1,\n",
       "       9, 3, 0, 9, 0, 3, 4, 4, 8, 3, 7, 0, 9, 1, 4, 0, 5, 3, 9, 5, 9, 2,\n",
       "       6, 3, 6, 2, 0, 9, 3, 3, 0, 1, 1, 2, 4, 2, 6, 1, 7, 0, 5, 1, 3, 5,\n",
       "       1, 8, 0, 5, 1, 1, 0, 7, 6, 0, 8, 7, 1, 8, 2, 3, 3, 7, 5, 2, 8, 1,\n",
       "       3, 6, 4, 0, 8, 8, 4, 0, 3, 2, 3, 8, 9, 6, 2, 9, 1, 5, 2, 6, 5, 9,\n",
       "       5, 3, 7, 0, 2, 9, 5, 0, 2, 2, 9, 2, 0, 0, 9, 9, 0, 1, 8, 6, 8, 2,\n",
       "       3, 8, 6, 1, 7, 5, 8, 3, 7, 1, 0, 0, 5, 7, 5, 9, 0, 0, 1, 9, 5, 7,\n",
       "       6, 3, 0, 8, 0, 1, 9, 2, 3, 7, 9, 6, 0, 9, 4, 9, 1, 2, 7, 3, 7, 9,\n",
       "       1, 5, 2, 8, 8, 5, 9, 4, 6, 1, 9, 7, 8, 1, 1, 7, 1, 9, 1, 0, 9, 8,\n",
       "       8, 5, 5, 2, 3, 7, 6, 3, 8, 7, 9, 0, 4, 6, 0, 5, 1, 5, 9, 2, 0, 5,\n",
       "       3, 8, 4, 8, 6, 1, 4, 0, 7, 1, 7, 2, 3, 8, 5, 3, 8, 5, 1, 1, 4, 9,\n",
       "       5, 2, 4, 9, 0, 0, 6, 3, 3, 7, 3, 6, 4, 8, 8, 8, 3, 5, 3, 7, 7, 7,\n",
       "       9, 1, 1, 5, 5, 8, 2, 0, 6, 4, 5, 9, 7, 7, 7, 5, 1, 9, 7, 4, 0, 4,\n",
       "       7, 7, 0, 0, 4, 9, 5, 0, 3, 1, 7, 3, 8, 4, 4, 3, 2, 2, 0, 1, 3, 7,\n",
       "       4, 0, 0, 2, 7, 0, 6, 0, 7, 7, 6, 9, 7, 0, 7, 6, 8, 6, 2, 2, 8, 9,\n",
       "       6, 9, 7, 3, 2, 7, 6, 5, 4, 4, 1, 2, 4, 3, 3, 4, 8, 9, 3, 8, 8, 3,\n",
       "       9, 4, 8, 6, 6, 5, 1, 4, 4, 7, 0, 5, 9, 6, 1, 2, 8, 1, 9, 8, 5, 2,\n",
       "       4, 1, 6, 5, 7, 3, 2, 3, 4, 9, 0, 0, 1, 6, 9, 9, 7, 5, 9, 1, 6, 8,\n",
       "       8, 1, 9, 5, 5, 8, 0, 0, 1, 2, 1, 2, 2, 5, 0, 6, 9, 1, 4, 5, 3, 2,\n",
       "       2, 3, 2, 0, 0, 2, 7, 7, 5, 8, 8, 6, 0, 4, 9, 5, 6, 4, 0, 6, 6, 2,\n",
       "       0, 0, 1, 7, 7, 4, 1, 3, 2, 1, 1, 6, 5, 0, 4, 5], dtype=int8)"
      ]
     },
     "execution_count": 68,
     "metadata": {},
     "output_type": "execute_result"
    }
   ],
   "source": [
    "y_train_10[100:600]"
   ]
  },
  {
   "cell_type": "code",
   "execution_count": 56,
   "metadata": {},
   "outputs": [
    {
     "data": {
      "image/png": "[encoded data removed]",
      "text/plain": [
       "<Figure size 432x288 with 1 Axes>"
      ]
     },
     "metadata": {
      "needs_background": "light"
     },
     "output_type": "display_data"
    }
   ],
   "source": [
    "import matplotlib\n",
    "import matplotlib.pyplot as plt\n",
    "some_digit = X_train_10[120]\n",
    "some_digit_image = some_digit.reshape(28 ,28)\n",
    "plt.imshow(some_digit_image, cmap = matplotlib.cm.binary, interpolation=\"nearest\")\n",
    "plt.axis(\"off\")\n",
    "plt.show()"
   ]
  },
  {
   "cell_type": "code",
   "execution_count": 57,
   "metadata": {},
   "outputs": [
    {
     "data": {
      "text/plain": [
       "4"
      ]
     },
     "execution_count": 57,
     "metadata": {},
     "output_type": "execute_result"
    }
   ],
   "source": [
    "y_train_10[120]"
   ]
  },
  {
   "cell_type": "code",
   "execution_count": 69,
   "metadata": {},
   "outputs": [
    {
     "name": "stdout",
     "output_type": "stream",
     "text": [
      "CPU times: user 310 ms, sys: 2.77 ms, total: 313 ms\n",
      "Wall time: 313 ms\n"
     ]
    },
    {
     "data": {
      "text/plain": [
       "array([0.785, 0.895, 0.82 ])"
      ]
     },
     "execution_count": 69,
     "metadata": {},
     "output_type": "execute_result"
    }
   ],
   "source": [
    "%%time\n",
    "cross_val_score(knn, X_train_10, y_train_10, cv=3, scoring=\"accuracy\")"
   ]
  },
  {
   "cell_type": "code",
   "execution_count": 59,
   "metadata": {},
   "outputs": [],
   "source": [
    "from sklearn.model_selection import GridSearchCV"
   ]
  },
  {
   "cell_type": "code",
   "execution_count": 60,
   "metadata": {},
   "outputs": [
    {
     "name": "stdout",
     "output_type": "stream",
     "text": [
      "[2, 3, 4, 5, 6, 7, 8, 9, 10, 11, 12, 13, 14, 15, 16, 17, 18, 19, 20, 21, 22, 23, 24, 25, 26, 27, 28, 29, 30]\n"
     ]
    }
   ],
   "source": [
    "# define the parameter values that should be searched\n",
    "# for python 2, k_range = range(1, 31)\n",
    "k_range = list(range(2, 31))\n",
    "print(k_range)"
   ]
  },
  {
   "cell_type": "code",
   "execution_count": 61,
   "metadata": {},
   "outputs": [
    {
     "name": "stdout",
     "output_type": "stream",
     "text": [
      "{'n_neighbors': [2, 3, 4, 5, 6, 7, 8, 9, 10, 11, 12, 13, 14, 15, 16, 17, 18, 19, 20, 21, 22, 23, 24, 25, 26, 27, 28, 29, 30]}\n"
     ]
    }
   ],
   "source": [
    "# create a parameter grid: map the parameter names to the values that should be searched\n",
    "# simply a python dictionary\n",
    "# key: parameter name\n",
    "# value: list of values that should be searched for that parameter\n",
    "# single key-value pair for param_grid\n",
    "param_grid = dict(n_neighbors=k_range)\n",
    "print(param_grid)"
   ]
  },
  {
   "cell_type": "code",
   "execution_count": 70,
   "metadata": {},
   "outputs": [],
   "source": [
    "grid = GridSearchCV(knn, param_grid, cv=10, scoring='accuracy')"
   ]
  },
  {
   "cell_type": "code",
   "execution_count": 71,
   "metadata": {},
   "outputs": [
    {
     "name": "stdout",
     "output_type": "stream",
     "text": [
      "CPU times: user 15.8 s, sys: 140 ms, total: 15.9 s\n",
      "Wall time: 16 s\n"
     ]
    },
    {
     "data": {
      "text/plain": [
       "GridSearchCV(cv=10, error_score=nan,\n",
       "             estimator=KNeighborsClassifier(algorithm='auto', leaf_size=30,\n",
       "                                            metric='minkowski',\n",
       "                                            metric_params=None, n_jobs=None,\n",
       "                                            n_neighbors=5, p=2,\n",
       "                                            weights='uniform'),\n",
       "             iid='deprecated', n_jobs=None,\n",
       "             param_grid={'n_neighbors': [2, 3, 4, 5, 6, 7, 8, 9, 10, 11, 12, 13,\n",
       "                                         14, 15, 16, 17, 18, 19, 20, 21, 22, 23,\n",
       "                                         24, 25, 26, 27, 28, 29, 30]},\n",
       "             pre_dispatch='2*n_jobs', refit=True, return_train_score=False,\n",
       "             scoring='accuracy', verbose=0)"
      ]
     },
     "execution_count": 71,
     "metadata": {},
     "output_type": "execute_result"
    }
   ],
   "source": [
    "%%time\n",
    "grid.fit(X_train_10, y_train_10)"
   ]
  },
  {
   "cell_type": "code",
   "execution_count": 72,
   "metadata": {},
   "outputs": [
    {
     "data": {
      "text/plain": [
       "KNeighborsClassifier(algorithm='auto', leaf_size=30, metric='minkowski',\n",
       "                     metric_params=None, n_jobs=None, n_neighbors=3, p=2,\n",
       "                     weights='uniform')"
      ]
     },
     "execution_count": 72,
     "metadata": {},
     "output_type": "execute_result"
    }
   ],
   "source": [
    "grid.best_estimator_"
   ]
  },
  {
   "cell_type": "code",
   "execution_count": 74,
   "metadata": {},
   "outputs": [
    {
     "name": "stdout",
     "output_type": "stream",
     "text": [
      "0.9110433579144299 {'n_neighbors': 2}\n",
      "0.9219544457292888 {'n_neighbors': 3}\n",
      "0.9165151389911681 {'n_neighbors': 4}\n",
      "0.9192388155425117 {'n_neighbors': 5}\n",
      "0.9165151389911681 {'n_neighbors': 6}\n",
      "0.9146948489341495 {'n_neighbors': 7}\n",
      "0.9146948489341495 {'n_neighbors': 8}\n",
      "0.9110433579144299 {'n_neighbors': 9}\n",
      "0.9110433579144299 {'n_neighbors': 10}\n",
      "0.9082951062292475 {'n_neighbors': 11}\n",
      "0.9036961141150639 {'n_neighbors': 12}\n",
      "0.9046177830074608 {'n_neighbors': 13}\n",
      "0.8990735972840785 {'n_neighbors': 14}\n",
      "0.8934950102453473 {'n_neighbors': 15}\n",
      "0.8878813734578135 {'n_neighbors': 16}\n",
      "0.8860022573334675 {'n_neighbors': 17}\n",
      "0.8888194417315588 {'n_neighbors': 18}\n",
      "0.8841191473249895 {'n_neighbors': 19}\n",
      "0.8831760866327847 {'n_neighbors': 20}\n",
      "0.8793937305515279 {'n_neighbors': 21}\n",
      "0.8765462528203137 {'n_neighbors': 22}\n",
      "0.8793937305515279 {'n_neighbors': 23}\n",
      "0.8698658900466593 {'n_neighbors': 24}\n",
      "0.8708233651742088 {'n_neighbors': 25}\n",
      "0.8679477710861024 {'n_neighbors': 26}\n",
      "0.8660254037844386 {'n_neighbors': 27}\n",
      "0.8612007121842542 {'n_neighbors': 28}\n",
      "0.8573214099741124 {'n_neighbors': 29}\n",
      "0.8602325267042626 {'n_neighbors': 30}\n"
     ]
    }
   ],
   "source": [
    "cvres = grid.cv_results_\n",
    "for mean_score, params in zip(cvres[\"mean_test_score\"], cvres[\"params\"]):\n",
    "    print(np.sqrt(mean_score), params)"
   ]
  },
  {
   "cell_type": "code",
   "execution_count": 79,
   "metadata": {},
   "outputs": [
    {
     "data": {
      "image/png": "[encoded data removed]",
      "text/plain": [
       "<Figure size 432x288 with 1 Axes>"
      ]
     },
     "metadata": {
      "needs_background": "light"
     },
     "output_type": "display_data"
    }
   ],
   "source": [
    "import matplotlib.pyplot as plt\n",
    "plt.plot(k_range, list(cvres[\"mean_test_score\"]))\n",
    "plt.xlabel('Value of K for KNN')\n",
    "plt.ylabel('Cross-Validated Accuracy')\n",
    "plt.show()"
   ]
  },
  {
   "cell_type": "markdown",
   "metadata": {},
   "source": [
    "## Searching multiple parameters simultaneously on part of train data"
   ]
  },
  {
   "cell_type": "code",
   "execution_count": 84,
   "metadata": {},
   "outputs": [],
   "source": [
    "# define the parameter values that should be searched\n",
    "k_range = list(range(1, 31))\n",
    "\n",
    "# Another parameter besides k that we might vary is the weights parameters\n",
    "# default options --> uniform (all points in the neighborhood are weighted equally)\n",
    "# another option --> distance (weights closer neighbors more heavily than further neighbors)\n",
    "\n",
    "# we create a list\n",
    "weight_options = ['uniform', 'distance']"
   ]
  },
  {
   "cell_type": "code",
   "execution_count": 85,
   "metadata": {},
   "outputs": [
    {
     "name": "stdout",
     "output_type": "stream",
     "text": [
      "{'n_neighbors': [1, 2, 3, 4, 5, 6, 7, 8, 9, 10, 11, 12, 13, 14, 15, 16, 17, 18, 19, 20, 21, 22, 23, 24, 25, 26, 27, 28, 29, 30], 'weights': ['uniform', 'distance']}\n"
     ]
    }
   ],
   "source": [
    "# create a parameter grid: map the parameter names to the values that should be searched\n",
    "# dictionary = dict(key=values, key=values)\n",
    "param_grid = dict(n_neighbors=k_range, weights=weight_options)\n",
    "print(param_grid)"
   ]
  },
  {
   "cell_type": "code",
   "execution_count": 86,
   "metadata": {},
   "outputs": [
    {
     "data": {
      "text/plain": [
       "GridSearchCV(cv=10, error_score=nan,\n",
       "             estimator=KNeighborsClassifier(algorithm='auto', leaf_size=30,\n",
       "                                            metric='minkowski',\n",
       "                                            metric_params=None, n_jobs=None,\n",
       "                                            n_neighbors=5, p=2,\n",
       "                                            weights='uniform'),\n",
       "             iid='deprecated', n_jobs=None,\n",
       "             param_grid={'n_neighbors': [1, 2, 3, 4, 5, 6, 7, 8, 9, 10, 11, 12,\n",
       "                                         13, 14, 15, 16, 17, 18, 19, 20, 21, 22,\n",
       "                                         23, 24, 25, 26, 27, 28, 29, 30],\n",
       "                         'weights': ['uniform', 'distance']},\n",
       "             pre_dispatch='2*n_jobs', refit=True, return_train_score=False,\n",
       "             scoring='accuracy', verbose=0)"
      ]
     },
     "execution_count": 86,
     "metadata": {},
     "output_type": "execute_result"
    }
   ],
   "source": [
    "# instantiate and fit the grid\n",
    "# exhaustive grid-search because it's trying every combination\n",
    "# 10-fold cross-validation is being performed 30 x 2 = 60 times\n",
    "\n",
    "grid = GridSearchCV(knn, param_grid, cv=10, scoring='accuracy')\n",
    "grid.fit(X_train_10, y_train_10)"
   ]
  },
  {
   "cell_type": "code",
   "execution_count": 87,
   "metadata": {},
   "outputs": [
    {
     "name": "stdout",
     "output_type": "stream",
     "text": [
      "0.8616666666666666\n",
      "{'n_neighbors': 3, 'weights': 'distance'}\n"
     ]
    }
   ],
   "source": [
    "# examine the best model\n",
    "print(grid.best_score_)\n",
    "print(grid.best_params_)\n",
    "\n",
    "# Best score did not improve for this model"
   ]
  },
  {
   "cell_type": "markdown",
   "metadata": {},
   "source": [
    "## Train on Data"
   ]
  },
  {
   "cell_type": "code",
   "execution_count": null,
   "metadata": {},
   "outputs": [],
   "source": [
    "%%time\n",
    "grid_train_all_data = GridSearchCV(knn, param_grid, cv=10, scoring='accuracy')\n",
    "grid_train_all_data.fit(X_train, y_train)"
   ]
  },
  {
   "cell_type": "code",
   "execution_count": null,
   "metadata": {},
   "outputs": [],
   "source": [
    "# examine the best model\n",
    "print(grid_train_all_data.best_score_)\n",
    "print(grid_train_all_data.best_params_)"
   ]
  },
  {
   "cell_type": "code",
   "execution_count": null,
   "metadata": {},
   "outputs": [],
   "source": []
  }
 ],
 "metadata": {
  "kernelspec": {
   "display_name": "Python 3",
   "language": "python",
   "name": "python3"
  },
  "language_info": {
   "codemirror_mode": {
    "name": "ipython",
    "version": 3
   },
   "file_extension": ".py",
   "mimetype": "text/x-python",
   "name": "python",
   "nbconvert_exporter": "python",
   "pygments_lexer": "ipython3",
   "version": "3.6.5"
  }
 },
 "nbformat": 4,
 "nbformat_minor": 2
}
